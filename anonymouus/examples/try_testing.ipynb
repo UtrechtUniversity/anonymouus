{
 "cells": [
  {
   "cell_type": "markdown",
   "id": "a509be31",
   "metadata": {},
   "source": [
    "# Getting started with Anonymouus: Example with test data #"
   ]
  },
  {
   "cell_type": "markdown",
   "id": "b65ff654",
   "metadata": {},
   "source": [
    "This Jupyter notebook runs through the test data in the AnonymoUUs repository to demonstrate the workings of the AnonymoUUs package. To run the code in this Jupyter notebook yourself, [***insert instructions*** -> I cloned the entire repository but that should not be necessary when you have pip installed anonymouus already?].\n",
    "\n",
    "**Please note**: AnonymoUUs substitutes strings in data files with replacement strings, for example names by numbers. Whereas replacing personal details with non-personal details can make data less identifiable, it does not guarantee fully anonymised data.\n",
    "\n",
    "To run the code in each cell:\n",
    "\n",
    "    1. Click on the cell to select it\n",
    "    2. Press SHIFT+ENTER on your keyboard or press the play button in the toolbar above"
   ]
  },
  {
   "cell_type": "markdown",
   "id": "04cf7fbb",
   "metadata": {},
   "source": [
    "### 1. Install and import packages ###"
   ]
  },
  {
   "cell_type": "code",
   "execution_count": 1,
   "id": "14f4712a",
   "metadata": {},
   "outputs": [
    {
     "name": "stdout",
     "output_type": "stream",
     "text": [
      "Requirement already satisfied: anonymouus in /home/martine/anaconda3/lib/python3.8/site-packages (0.0.8)\r\n"
     ]
    }
   ],
   "source": [
    "# Install anonymouus so that the Jupyter notebook can access it\n",
    "import sys\n",
    "!{sys.executable} -m pip install anonymouus"
   ]
  },
  {
   "cell_type": "code",
   "execution_count": 2,
   "id": "e58c2d3d",
   "metadata": {},
   "outputs": [],
   "source": [
    "# Import packages\n",
    "import csv\n",
    "from pathlib import Path\n",
    "import pandas as pd\n",
    "import re\n",
    "\n",
    "from anonymouus import Anonymize"
   ]
  },
  {
   "cell_type": "markdown",
   "id": "7f6f66ee",
   "metadata": {},
   "source": [
    "### 2. Provide the path to the data to be substituted ###"
   ]
  },
  {
   "cell_type": "code",
   "execution_count": 3,
   "id": "6e2cec11",
   "metadata": {},
   "outputs": [],
   "source": [
    "test_data = Path('../tests/test_data/')"
   ]
  },
  {
   "cell_type": "markdown",
   "id": "5c8222c9",
   "metadata": {},
   "source": [
    "### 3. Provide the mapping ###"
   ]
  },
  {
   "cell_type": "markdown",
   "id": "628b85be",
   "metadata": {},
   "source": [
    "In the mapping, you specify the keywords to be replaced in the data file(s) and their substitutes, for example a name-number keyfile. The mapping can be: \n",
    "1. a dictionary (e.g., .json file)\n",
    "2. the path to a csv file \n",
    "3. a function "
   ]
  },
  {
   "cell_type": "markdown",
   "id": "8d8281c5",
   "metadata": {},
   "source": [
    "When using a csv-file, make sure: \n",
    "* your file has two columns \n",
    "    * left column: words to be replaced (e.g., \"name\")\n",
    "    * right column: substitutions (e.g., \"participant number\")\n",
    "* your file has a column header (any format)\n",
    "\n",
    "For example:"
   ]
  },
  {
   "cell_type": "code",
   "execution_count": 4,
   "id": "00fdab2b",
   "metadata": {},
   "outputs": [],
   "source": [
    "key_csv = test_data/'keys.csv'"
   ]
  },
  {
   "cell_type": "code",
   "execution_count": 5,
   "id": "f225a7e8",
   "metadata": {},
   "outputs": [
    {
     "data": {
      "text/html": [
       "<div>\n",
       "<style scoped>\n",
       "    .dataframe tbody tr th:only-of-type {\n",
       "        vertical-align: middle;\n",
       "    }\n",
       "\n",
       "    .dataframe tbody tr th {\n",
       "        vertical-align: top;\n",
       "    }\n",
       "\n",
       "    .dataframe thead th {\n",
       "        text-align: right;\n",
       "    }\n",
       "</style>\n",
       "<table border=\"1\" class=\"dataframe\">\n",
       "  <thead>\n",
       "    <tr style=\"text-align: right;\">\n",
       "      <th></th>\n",
       "      <th>subt</th>\n",
       "    </tr>\n",
       "    <tr>\n",
       "      <th>names</th>\n",
       "      <th></th>\n",
       "    </tr>\n",
       "  </thead>\n",
       "  <tbody>\n",
       "    <tr>\n",
       "      <th>Jane Doe</th>\n",
       "      <td>aaaa</td>\n",
       "    </tr>\n",
       "    <tr>\n",
       "      <th>Amsterdam</th>\n",
       "      <td>bbbb</td>\n",
       "    </tr>\n",
       "    <tr>\n",
       "      <th>j.doe@gmail.com</th>\n",
       "      <td>cccc</td>\n",
       "    </tr>\n",
       "    <tr>\n",
       "      <th>r#ca.*?er</th>\n",
       "      <td>dddd</td>\n",
       "    </tr>\n",
       "  </tbody>\n",
       "</table>\n",
       "</div>"
      ],
      "text/plain": [
       "                 subt\n",
       "names                \n",
       "Jane Doe         aaaa\n",
       "Amsterdam        bbbb\n",
       "j.doe@gmail.com  cccc\n",
       "r#ca.*?er        dddd"
      ]
     },
     "execution_count": 5,
     "metadata": {},
     "output_type": "execute_result"
    }
   ],
   "source": [
    "# Here's what the csv mapping looks like\n",
    "df_key = pd.read_csv(key_csv,index_col='names')\n",
    "df_key"
   ]
  },
  {
   "cell_type": "markdown",
   "id": "f9bfbfb5",
   "metadata": {},
   "source": [
    "Note that besides strings, you can also add regular expressions as keywords. In this case, the strings corresponding to the specified pattern will be replaced.\n",
    "* In a csv file: ```r#_my regex_```\n",
    "* In a dictionary:```re.compile('_my regex_')``` "
   ]
  },
  {
   "cell_type": "code",
   "execution_count": 6,
   "id": "5f83877b",
   "metadata": {},
   "outputs": [],
   "source": [
    "# Another example of a mapping, now in a dictionary variable\n",
    "key_dict = {\n",
    "'Jane Doe': 'aaaa',\n",
    "'Amsterdam':'bbbb',\n",
    "'j.doe@gmail.com':'cccc',\n",
    "re.compile('ca.*?er'):'dddd'\n",
    "} "
   ]
  },
  {
   "cell_type": "markdown",
   "id": "71526893",
   "metadata": {},
   "source": [
    "### 4. Create an Anonymize object ###\n",
    "\n",
    "This object is a prerequisite to perform the substition method on."
   ]
  },
  {
   "cell_type": "code",
   "execution_count": 7,
   "id": "70ff6761",
   "metadata": {},
   "outputs": [],
   "source": [
    "anym = Anonymize(key_csv)"
   ]
  },
  {
   "cell_type": "markdown",
   "id": "58d7241e",
   "metadata": {},
   "source": [
    "Customize the replacement process by adding options or flags\n",
    "\n",
    "* Replace only entire words: ```Anonymize(key_csv,use_word_boundaries=True)```\n",
    "* Replace case-insensitive: ```Anonymize(key_csv,flags=re.IGNORECASE)```"
   ]
  },
  {
   "cell_type": "markdown",
   "id": "ff54c1e6",
   "metadata": {},
   "source": [
    "### 5. Perform the substitutions ###"
   ]
  },
  {
   "cell_type": "markdown",
   "id": "4a02f409",
   "metadata": {},
   "source": [
    "The subsititute method is the step where the specified words will be replaced by the substitutions. It will replace **all** occurrences of the specified words with the substutions, in all files in the provided source folder.   \n",
    "\n",
    "Provide the path to the folder with:\n",
    "* path to the original data (source)\n",
    "* path to the resulting data (target); this path will be created if it does not exist yet"
   ]
  },
  {
   "cell_type": "code",
   "execution_count": 8,
   "id": "a801ed45",
   "metadata": {},
   "outputs": [],
   "source": [
    "# Perform the substitutions and put the results in a folder called \"pseudonymised\"\n",
    "anym.substitute(test_data,Path.cwd()/'pseudonymised/')"
   ]
  },
  {
   "cell_type": "markdown",
   "id": "7dba2d6d",
   "metadata": {},
   "source": [
    "There is now a new folder called \"pseudonymised\" in the same folder as this Jupyter notebook."
   ]
  },
  {
   "cell_type": "markdown",
   "id": "3335697e",
   "metadata": {},
   "source": [
    "### 6. Check the test data ###\n",
    "\n",
    "Finally, it is always wise to check whether the words you wanted were substituted correctly. Depending on the type of data you have, you can do this manually or via code."
   ]
  },
  {
   "cell_type": "code",
   "execution_count": 9,
   "id": "754355ba",
   "metadata": {},
   "outputs": [
    {
     "data": {
      "text/plain": [
       "['My name is aaaa and I live in bbbb.\\n', 'Casper loves his ddddpillar']"
      ]
     },
     "execution_count": 9,
     "metadata": {},
     "output_type": "execute_result"
    }
   ],
   "source": [
    "# Read the newly created .txt file\n",
    "with open('pseudonymised/test_data/aaaa.txt') as f:\n",
    "    lines = f.readlines()\n",
    "\n",
    "lines"
   ]
  },
  {
   "cell_type": "code",
   "execution_count": 10,
   "id": "d5445b46",
   "metadata": {},
   "outputs": [
    {
     "data": {
      "text/plain": [
       "['{\\n',\n",
       " '    \"name\": {\\n',\n",
       " '      \"givenName\": \"Jane\",\\n',\n",
       " '      \"familyName\": \"Doe\",\\n',\n",
       " '      \"formattedName\": \"aaaa\"\\n',\n",
       " '    },\\n',\n",
       " '    \"displayName\": \"aaaa\",\\n',\n",
       " '    \"emails\": [{\\n',\n",
       " '      \"value\": \"cccc\"\\n',\n",
       " '    }],\\n',\n",
       " '    \"gender\": {\\n',\n",
       " '      \"type\": \"female\"\\n',\n",
       " '    }\\n',\n",
       " '  }']"
      ]
     },
     "execution_count": 10,
     "metadata": {},
     "output_type": "execute_result"
    }
   ],
   "source": [
    "# Read the newly created .json file\n",
    "with open('pseudonymised/test_data/profile.json') as f:\n",
    "    lines2 = f.readlines()\n",
    "\n",
    "lines2"
   ]
  },
  {
   "cell_type": "code",
   "execution_count": null,
   "id": "2969ee4a",
   "metadata": {},
   "outputs": [],
   "source": []
  }
 ],
 "metadata": {
  "kernelspec": {
   "display_name": "Python 3",
   "language": "python",
   "name": "python3"
  },
  "language_info": {
   "codemirror_mode": {
    "name": "ipython",
    "version": 3
   },
   "file_extension": ".py",
   "mimetype": "text/x-python",
   "name": "python",
   "nbconvert_exporter": "python",
   "pygments_lexer": "ipython3",
   "version": "3.8.8"
  }
 },
 "nbformat": 4,
 "nbformat_minor": 5
}
