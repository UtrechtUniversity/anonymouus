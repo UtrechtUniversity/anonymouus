{
 "cells": [
  {
   "cell_type": "markdown",
   "id": "a509be31",
   "metadata": {},
   "source": [
    "# Getting started with Anonymouus : Example with test data #"
   ]
  },
  {
   "cell_type": "markdown",
   "id": "b65ff654",
   "metadata": {},
   "source": [
    "To run the code below:\n",
    "    \n",
    "    1. Click on the cell to select it\n",
    "    2. Press SHIFT+ENTER on your keyboard or press the play button in the toolbar above"
   ]
  },
  {
   "cell_type": "code",
   "execution_count": 2,
   "id": "e58c2d3d",
   "metadata": {},
   "outputs": [],
   "source": [
    "import csv\n",
    "from pathlib import Path\n",
    "import pandas as pd\n",
    "import re\n",
    "\n",
    "from anonymouus import Anonymize"
   ]
  },
  {
   "cell_type": "markdown",
   "id": "7f6f66ee",
   "metadata": {},
   "source": [
    "### Provide the data to be anonymized ###"
   ]
  },
  {
   "cell_type": "code",
   "execution_count": 5,
   "id": "6e2cec11",
   "metadata": {},
   "outputs": [],
   "source": [
    "test_data = Path('../tests/test_data/')"
   ]
  },
  {
   "cell_type": "markdown",
   "id": "5c8222c9",
   "metadata": {},
   "source": [
    "### Provide the mapping ###"
   ]
  },
  {
   "cell_type": "markdown",
   "id": "628b85be",
   "metadata": {},
   "source": [
    "In the mapping you specify the keywords to be replaced and their substitutes.\n",
    "The mapping can be a: \n",
    "1. a dictionary \n",
    "2. the path to a csv file \n",
    "3. a function "
   ]
  },
  {
   "cell_type": "markdown",
   "id": "8d8281c5",
   "metadata": {},
   "source": [
    "When using a csv-file, make sure: \n",
    "* your file has two columns \n",
    "    * left column: words to be replaced, \n",
    "    * right column: substitutions. \n",
    "* your file has a column header (any format)\n",
    "\n",
    "For example:"
   ]
  },
  {
   "cell_type": "code",
   "execution_count": 7,
   "id": "00fdab2b",
   "metadata": {},
   "outputs": [],
   "source": [
    "key_csv = test_data/'keys.csv'"
   ]
  },
  {
   "cell_type": "code",
   "execution_count": 30,
   "id": "f225a7e8",
   "metadata": {},
   "outputs": [
    {
     "data": {
      "text/html": [
       "<div>\n",
       "<style scoped>\n",
       "    .dataframe tbody tr th:only-of-type {\n",
       "        vertical-align: middle;\n",
       "    }\n",
       "\n",
       "    .dataframe tbody tr th {\n",
       "        vertical-align: top;\n",
       "    }\n",
       "\n",
       "    .dataframe thead th {\n",
       "        text-align: right;\n",
       "    }\n",
       "</style>\n",
       "<table border=\"1\" class=\"dataframe\">\n",
       "  <thead>\n",
       "    <tr style=\"text-align: right;\">\n",
       "      <th></th>\n",
       "      <th>subt</th>\n",
       "    </tr>\n",
       "    <tr>\n",
       "      <th>names</th>\n",
       "      <th></th>\n",
       "    </tr>\n",
       "  </thead>\n",
       "  <tbody>\n",
       "    <tr>\n",
       "      <th>Jane Doe</th>\n",
       "      <td>aaaa</td>\n",
       "    </tr>\n",
       "    <tr>\n",
       "      <th>Amsterdam</th>\n",
       "      <td>bbbb</td>\n",
       "    </tr>\n",
       "    <tr>\n",
       "      <th>j.doe@gmail.com</th>\n",
       "      <td>cccc</td>\n",
       "    </tr>\n",
       "    <tr>\n",
       "      <th>r#ca.*?er</th>\n",
       "      <td>dddd</td>\n",
       "    </tr>\n",
       "  </tbody>\n",
       "</table>\n",
       "</div>"
      ],
      "text/plain": [
       "                 subt\n",
       "names                \n",
       "Jane Doe         aaaa\n",
       "Amsterdam        bbbb\n",
       "j.doe@gmail.com  cccc\n",
       "r#ca.*?er        dddd"
      ]
     },
     "execution_count": 30,
     "metadata": {},
     "output_type": "execute_result"
    }
   ],
   "source": [
    "df_key = pd.read_csv(key_csv,index_col='names')\n",
    "df_key"
   ]
  },
  {
   "cell_type": "markdown",
   "id": "f9bfbfb5",
   "metadata": {},
   "source": [
    "Note that besides strings, you can also add regular expressions as keywords\n",
    "* In a csv file: ```r#_my regex_```\n",
    "* In a dictionary:```re.compile('_my regex_')``` "
   ]
  },
  {
   "cell_type": "code",
   "execution_count": 19,
   "id": "5f83877b",
   "metadata": {},
   "outputs": [],
   "source": [
    "key_dict = {\n",
    "'Jane Doe': 'aaaa',\n",
    "'Amsterdam':'bbbb',\n",
    "'j.doe@gmail.com':'cccc',\n",
    "re.compile('ca.*?er'):'dddd'\n",
    "} "
   ]
  },
  {
   "cell_type": "markdown",
   "id": "71526893",
   "metadata": {},
   "source": [
    "### Create Anonymize object ###"
   ]
  },
  {
   "cell_type": "code",
   "execution_count": 21,
   "id": "70ff6761",
   "metadata": {},
   "outputs": [],
   "source": [
    "anym = Anonymize(key_csv)"
   ]
  },
  {
   "cell_type": "markdown",
   "id": "58d7241e",
   "metadata": {},
   "source": [
    "Customize the replacement process by adding options or flags\n",
    "\n",
    "* Replace only entire words ```Anonymize(key_csv,use_word_boundaries=True)```\n",
    "* Replace case-insensitive ```Anonymize(key_csv,flags=re.IGNORECASE)```"
   ]
  },
  {
   "cell_type": "markdown",
   "id": "ff54c1e6",
   "metadata": {},
   "source": [
    "### Anonymize data ###"
   ]
  },
  {
   "cell_type": "markdown",
   "id": "4a02f409",
   "metadata": {},
   "source": [
    "The replacement is carried out by the subsititute function. \n",
    "Provide the path to the folder with\n",
    "* testdata (source)\n",
    "* resultdata (target); will be created if it doesn't exist"
   ]
  },
  {
   "cell_type": "code",
   "execution_count": 31,
   "id": "a801ed45",
   "metadata": {},
   "outputs": [],
   "source": [
    "anym.substitute(test_data,Path.cwd()/'anonymized/')"
   ]
  },
  {
   "cell_type": "code",
   "execution_count": null,
   "id": "85fe6891",
   "metadata": {},
   "outputs": [],
   "source": []
  },
  {
   "cell_type": "code",
   "execution_count": 7,
   "id": "0655b448",
   "metadata": {},
   "outputs": [],
   "source": []
  },
  {
   "cell_type": "code",
   "execution_count": null,
   "id": "754355ba",
   "metadata": {},
   "outputs": [],
   "source": []
  },
  {
   "cell_type": "code",
   "execution_count": null,
   "id": "d5445b46",
   "metadata": {},
   "outputs": [],
   "source": []
  }
 ],
 "metadata": {
  "kernelspec": {
   "display_name": "Python 3",
   "language": "python",
   "name": "python3"
  },
  "language_info": {
   "codemirror_mode": {
    "name": "ipython",
    "version": 3
   },
   "file_extension": ".py",
   "mimetype": "text/x-python",
   "name": "python",
   "nbconvert_exporter": "python",
   "pygments_lexer": "ipython3",
   "version": "3.8.8"
  }
 },
 "nbformat": 4,
 "nbformat_minor": 5
}
