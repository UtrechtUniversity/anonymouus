{
 "cells": [
  {
   "cell_type": "code",
   "execution_count": 1,
   "id": "96ddb010",
   "metadata": {},
   "outputs": [],
   "source": [
    "import sys\n",
    "sys.path.append('..')\n",
    "from anonymouus import Anonymize\n",
    "from dynamic_substitution import DynamicSubstitution\n",
    "from date_replacer import DateReplacer"
   ]
  },
  {
   "cell_type": "code",
   "execution_count": 2,
   "id": "0e75d435",
   "metadata": {},
   "outputs": [
    {
     "name": "stdout",
     "output_type": "stream",
     "text": [
      "<class 'function'>\n"
     ]
    }
   ],
   "source": [
    "d = DateReplacer()\n",
    "d.clear_patterns()\n",
    "from random import shuffle\n",
    "def shuffle_date(word):\n",
    "    word = list(word)\n",
    "    shuffle(word)\n",
    "    return ''.join(word)\n",
    "\n",
    "repl = shuffle_date\n",
    "#'1970-01-01'\n",
    "d.add_pattern(r'(\\d){4}[-/]{1}(\\d){2}[-/]{1}(\\d){2}', repl)"
   ]
  },
  {
   "cell_type": "code",
   "execution_count": 3,
   "id": "dcd48ec0",
   "metadata": {},
   "outputs": [
    {
     "data": {
      "text/plain": [
       "'het was op -6-0910193!'"
      ]
     },
     "execution_count": 3,
     "metadata": {},
     "output_type": "execute_result"
    }
   ],
   "source": [
    "d.replace('het was op 1969-03-01!')"
   ]
  },
  {
   "cell_type": "code",
   "execution_count": 4,
   "id": "c27d9a99",
   "metadata": {},
   "outputs": [
    {
     "name": "stdout",
     "output_type": "stream",
     "text": [
      "<class 'function'>\n"
     ]
    }
   ],
   "source": [
    "d.clear_patterns()\n",
    "d.add_pattern(r'(\\d){4}[-/]{1}(\\d){2}[-/]{1}(\\d){2}', lambda x: x[::-1])"
   ]
  },
  {
   "cell_type": "code",
   "execution_count": 5,
   "id": "f5b6aa9a",
   "metadata": {},
   "outputs": [
    {
     "data": {
      "text/plain": [
       "'het was op 10-30-9691!'"
      ]
     },
     "execution_count": 5,
     "metadata": {},
     "output_type": "execute_result"
    }
   ],
   "source": [
    "d.replace('het was op 1969-03-01!')"
   ]
  },
  {
   "cell_type": "code",
   "execution_count": null,
   "id": "eafd6c93",
   "metadata": {},
   "outputs": [],
   "source": []
  }
 ],
 "metadata": {
  "kernelspec": {
   "display_name": "Python 3 (ipykernel)",
   "language": "python",
   "name": "python3"
  },
  "language_info": {
   "codemirror_mode": {
    "name": "ipython",
    "version": 3
   },
   "file_extension": ".py",
   "mimetype": "text/x-python",
   "name": "python",
   "nbconvert_exporter": "python",
   "pygments_lexer": "ipython3",
   "version": "3.9.12"
  }
 },
 "nbformat": 4,
 "nbformat_minor": 5
}
