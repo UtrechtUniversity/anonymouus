{
 "cells": [
  {
   "cell_type": "code",
   "execution_count": 31,
   "id": "d4e244f9",
   "metadata": {},
   "outputs": [],
   "source": [
    "import json\n",
    "import os\n",
    "import re\n",
    "import sys\n",
    "from pathlib import Path\n",
    "sys.path.append('..')\n",
    "from anonymouus import Anonymize\n",
    "from dynamic_substitution import DynamicSubstitution\n",
    "import uuid"
   ]
  },
  {
   "cell_type": "code",
   "execution_count": 32,
   "id": "1430c124",
   "metadata": {},
   "outputs": [],
   "source": [
    "input_folder = '/data/youth/data_test/'\n",
    "output_folder = '/data/youth/pseudonimized_auto/'\n",
    "result_keyfile = '/data/youth/translation_table_both.csv'\n",
    "\n",
    "session_id = 'test1'\n",
    "pattern = r'(?<![^\\W_])(A|B)(\\d){5}(?![^\\W_])'\n",
    "\n",
    "use_custom_pseudocode = True\n",
    "pseudocode_length = 8\n",
    "pseudocode_prefix = 'p_'"
   ]
  },
  {
   "cell_type": "code",
   "execution_count": 33,
   "id": "1febe30c",
   "metadata": {},
   "outputs": [],
   "source": [
    "mapper = DynamicSubstitution()\n",
    "\n",
    "if use_custom_pseudocode:\n",
    "\n",
    "    class PseudoCodeCreator:\n",
    "        def __init__(self, code_len: int, prefix: str = \"\") -> None:\n",
    "            self.code_len = code_len\n",
    "            self.prefix = prefix\n",
    "            self.codes = []\n",
    "\n",
    "        def generate_code(self) -> str:\n",
    "            return f\"{self.prefix}{str(uuid.uuid4())[:self.code_len]}\"\n",
    "\n",
    "        def get_code(self, x: str) -> str:\n",
    "            code = self.generate_code()\n",
    "            while code in self.codes:\n",
    "                code = self.generate_code()\n",
    "            self.codes.append(code)\n",
    "            return code\n",
    "\n",
    "\n",
    "    creator = PseudoCodeCreator(pseudocode_length,pseudocode_prefix)\n",
    "    mapper.set_code_generator(creator.get_code)"
   ]
  },
  {
   "cell_type": "code",
   "execution_count": 34,
   "id": "3d494556",
   "metadata": {},
   "outputs": [
    {
     "name": "stdout",
     "output_type": "stream",
     "text": [
      "['__class__', '__delattr__', '__dict__', '__dir__', '__doc__', '__eq__', '__format__', '__ge__', '__getattribute__', '__gt__', '__hash__', '__init__', '__init_subclass__', '__le__', '__lt__', '__module__', '__ne__', '__new__', '__reduce__', '__reduce_ex__', '__repr__', '__setattr__', '__sizeof__', '__str__', '__subclasshook__', '__weakref__', '_convert_csv_to_dict', '_copy_file', '_make_dir', '_process_file', '_process_folder', '_process_target', '_process_txt_based_file', '_process_unknown_file_type', '_process_zip_file', '_read_file', '_remove_file', '_remove_folder', '_rename_file_or_folder', '_reorder_dict', '_substitute_ids', '_traverse_tree', '_write_file', 'copy', 'flags', 'kwargs', 'mapping', 'mapping_is_function', 'pattern', 'preprocess_text', 'substitute', 'use_word_boundaries', 'zip_format']\n"
     ]
    }
   ],
   "source": [
    "anon = Anonymize(\n",
    "    flags=re.IGNORECASE,\n",
    "    pattern=pattern,\n",
    "    mapping=mapper.subtitute,\n",
    "    use_word_boundaries=False,\n",
    "    session_id=session_id\n",
    ")\n",
    "print(dir(anon))"
   ]
  },
  {
   "cell_type": "code",
   "execution_count": 35,
   "id": "81bdaf3a",
   "metadata": {},
   "outputs": [],
   "source": [
    "# anon.set_cols_pseudonymize([\"Pseudocode\", \"SubjectNo\"])\n",
    "# anon.set_cols_exclude([\"IP Address\", \"Date\", \"Date last action\", \"Date started\", \"Date submitted\", \"End time\", \"Primary assistant\", \"Secondary assistant\", \"Start time\", \"AGE\", \"DATE_DT\", \"DateLastSavedByUser\", \"DOB_DT\", \"FilledFormID\", \"InclusionDate\", \"TODAY.._DAT\", \"TODAY_DT\", \"TREATMENT_HOSP_NAME\", \"TREATMENT_HOSP_PLACE\"])\n",
    "# anon.set_cols_case_sensitive(False)\n",
    "# anon.set_spread_sheets_pseudonymize([\"Sheet 1\"])\n",
    "# anon.set_spread_sheets_exclude([\"Sheet 2\"])"
   ]
  },
  {
   "cell_type": "code",
   "execution_count": 36,
   "id": "8a9b2a67",
   "metadata": {},
   "outputs": [
    {
     "ename": "TypeError",
     "evalue": "subtitute() got an unexpected keyword argument 'session_id'",
     "output_type": "error",
     "traceback": [
      "\u001b[0;31m---------------------------------------------------------------------------\u001b[0m",
      "\u001b[0;31mTypeError\u001b[0m                                 Traceback (most recent call last)",
      "Input \u001b[0;32mIn [36]\u001b[0m, in \u001b[0;36m<cell line: 1>\u001b[0;34m()\u001b[0m\n\u001b[0;32m----> 1\u001b[0m \u001b[43manon\u001b[49m\u001b[38;5;241;43m.\u001b[39;49m\u001b[43msubstitute\u001b[49m\u001b[43m(\u001b[49m\u001b[43mPath\u001b[49m\u001b[43m(\u001b[49m\u001b[43minput_folder\u001b[49m\u001b[43m)\u001b[49m\u001b[43m,\u001b[49m\u001b[43mPath\u001b[49m\u001b[43m(\u001b[49m\u001b[43moutput_folder\u001b[49m\u001b[43m)\u001b[49m\u001b[43m)\u001b[49m\n",
      "File \u001b[0;32m~/anaconda3/lib/python3.9/site-packages/anonymouus/anonymouus.py:193\u001b[0m, in \u001b[0;36mAnonymize.substitute\u001b[0;34m(self, source_path, target_path)\u001b[0m\n\u001b[1;32m    190\u001b[0m         \u001b[38;5;28mself\u001b[39m\u001b[38;5;241m.\u001b[39m_make_dir(target_path)\n\u001b[1;32m    192\u001b[0m \u001b[38;5;66;03m# start traversing\u001b[39;00m\n\u001b[0;32m--> 193\u001b[0m \u001b[38;5;28;43mself\u001b[39;49m\u001b[38;5;241;43m.\u001b[39;49m\u001b[43m_traverse_tree\u001b[49m\u001b[43m(\u001b[49m\u001b[43msource_path\u001b[49m\u001b[43m,\u001b[49m\u001b[43m \u001b[49m\u001b[43mtarget_path\u001b[49m\u001b[43m)\u001b[49m\n",
      "File \u001b[0;32m~/anaconda3/lib/python3.9/site-packages/anonymouus/anonymouus.py:207\u001b[0m, in \u001b[0;36mAnonymize._traverse_tree\u001b[0;34m(self, source, target)\u001b[0m\n\u001b[1;32m    204\u001b[0m (source, target) \u001b[38;5;241m=\u001b[39m \u001b[38;5;28mself\u001b[39m\u001b[38;5;241m.\u001b[39m_process_folder(source, target)\n\u001b[1;32m    206\u001b[0m \u001b[38;5;28;01mfor\u001b[39;00m child \u001b[38;5;129;01min\u001b[39;00m source\u001b[38;5;241m.\u001b[39miterdir():\n\u001b[0;32m--> 207\u001b[0m     \u001b[38;5;28;43mself\u001b[39;49m\u001b[38;5;241;43m.\u001b[39;49m\u001b[43m_traverse_tree\u001b[49m\u001b[43m(\u001b[49m\u001b[43mchild\u001b[49m\u001b[43m,\u001b[49m\u001b[43m \u001b[49m\u001b[43mtarget\u001b[49m\u001b[43m)\u001b[49m\n",
      "File \u001b[0;32m~/anaconda3/lib/python3.9/site-packages/anonymouus/anonymouus.py:201\u001b[0m, in \u001b[0;36mAnonymize._traverse_tree\u001b[0;34m(self, source, target)\u001b[0m\n\u001b[1;32m    195\u001b[0m \u001b[38;5;28;01mdef\u001b[39;00m \u001b[38;5;21m_traverse_tree\u001b[39m(\u001b[38;5;28mself\u001b[39m, \n\u001b[1;32m    196\u001b[0m     source: Path,\n\u001b[1;32m    197\u001b[0m     target: Path\n\u001b[1;32m    198\u001b[0m     ):\n\u001b[1;32m    200\u001b[0m     \u001b[38;5;28;01mif\u001b[39;00m source\u001b[38;5;241m.\u001b[39mis_file():\n\u001b[0;32m--> 201\u001b[0m         \u001b[38;5;28;43mself\u001b[39;49m\u001b[38;5;241;43m.\u001b[39;49m\u001b[43m_process_file\u001b[49m\u001b[43m(\u001b[49m\u001b[43msource\u001b[49m\u001b[43m,\u001b[49m\u001b[43m \u001b[49m\u001b[43mtarget\u001b[49m\u001b[43m)\u001b[49m\n\u001b[1;32m    202\u001b[0m     \u001b[38;5;28;01melse\u001b[39;00m:\n\u001b[1;32m    203\u001b[0m         \u001b[38;5;66;03m# this is a folder, rename/create if necessary\u001b[39;00m\n\u001b[1;32m    204\u001b[0m         (source, target) \u001b[38;5;241m=\u001b[39m \u001b[38;5;28mself\u001b[39m\u001b[38;5;241m.\u001b[39m_process_folder(source, target)\n",
      "File \u001b[0;32m~/anaconda3/lib/python3.9/site-packages/anonymouus/anonymouus.py:241\u001b[0m, in \u001b[0;36mAnonymize._process_file\u001b[0;34m(self, source, target)\u001b[0m\n\u001b[1;32m    238\u001b[0m extension \u001b[38;5;241m=\u001b[39m source\u001b[38;5;241m.\u001b[39msuffix\n\u001b[1;32m    240\u001b[0m \u001b[38;5;28;01mif\u001b[39;00m extension \u001b[38;5;129;01min\u001b[39;00m [\u001b[38;5;124m'\u001b[39m\u001b[38;5;124m.txt\u001b[39m\u001b[38;5;124m'\u001b[39m, \u001b[38;5;124m'\u001b[39m\u001b[38;5;124m.csv\u001b[39m\u001b[38;5;124m'\u001b[39m, \u001b[38;5;124m'\u001b[39m\u001b[38;5;124m.html\u001b[39m\u001b[38;5;124m'\u001b[39m, \u001b[38;5;124m'\u001b[39m\u001b[38;5;124m.htm\u001b[39m\u001b[38;5;124m'\u001b[39m, \u001b[38;5;124m'\u001b[39m\u001b[38;5;124m.xml\u001b[39m\u001b[38;5;124m'\u001b[39m, \u001b[38;5;124m'\u001b[39m\u001b[38;5;124m.json\u001b[39m\u001b[38;5;124m'\u001b[39m]:\n\u001b[0;32m--> 241\u001b[0m     \u001b[38;5;28;43mself\u001b[39;49m\u001b[38;5;241;43m.\u001b[39;49m\u001b[43m_process_txt_based_file\u001b[49m\u001b[43m(\u001b[49m\u001b[43msource\u001b[49m\u001b[43m,\u001b[49m\u001b[43m \u001b[49m\u001b[43mtarget\u001b[49m\u001b[43m)\u001b[49m\n\u001b[1;32m    242\u001b[0m \u001b[38;5;28;01melif\u001b[39;00m extension \u001b[38;5;129;01min\u001b[39;00m [\u001b[38;5;124m'\u001b[39m\u001b[38;5;124m.zip\u001b[39m\u001b[38;5;124m'\u001b[39m, \u001b[38;5;124m'\u001b[39m\u001b[38;5;124m.gzip\u001b[39m\u001b[38;5;124m'\u001b[39m, \u001b[38;5;124m'\u001b[39m\u001b[38;5;124m.gz\u001b[39m\u001b[38;5;124m'\u001b[39m]:\n\u001b[1;32m    243\u001b[0m     \u001b[38;5;28mself\u001b[39m\u001b[38;5;241m.\u001b[39m_process_zip_file(source, target, extension)\n",
      "File \u001b[0;32m~/anaconda3/lib/python3.9/site-packages/anonymouus/anonymouus.py:271\u001b[0m, in \u001b[0;36mAnonymize._process_txt_based_file\u001b[0;34m(self, source, target)\u001b[0m\n\u001b[1;32m    269\u001b[0m contents \u001b[38;5;241m=\u001b[39m \u001b[38;5;28mself\u001b[39m\u001b[38;5;241m.\u001b[39m_read_file(source)\n\u001b[1;32m    270\u001b[0m \u001b[38;5;66;03m# substitute\u001b[39;00m\n\u001b[0;32m--> 271\u001b[0m substituted_contents \u001b[38;5;241m=\u001b[39m [\u001b[38;5;28mself\u001b[39m\u001b[38;5;241m.\u001b[39m_substitute_ids(line) \u001b[38;5;28;01mfor\u001b[39;00m line \u001b[38;5;129;01min\u001b[39;00m contents]\n\u001b[1;32m    272\u001b[0m \u001b[38;5;28;01mif\u001b[39;00m \u001b[38;5;28mself\u001b[39m\u001b[38;5;241m.\u001b[39mcopy \u001b[38;5;241m==\u001b[39m \u001b[38;5;28;01mFalse\u001b[39;00m:\n\u001b[1;32m    273\u001b[0m     \u001b[38;5;66;03m# remove the original file\u001b[39;00m\n\u001b[1;32m    274\u001b[0m     \u001b[38;5;28mself\u001b[39m\u001b[38;5;241m.\u001b[39m_remove_file(source)\n",
      "File \u001b[0;32m~/anaconda3/lib/python3.9/site-packages/anonymouus/anonymouus.py:271\u001b[0m, in \u001b[0;36m<listcomp>\u001b[0;34m(.0)\u001b[0m\n\u001b[1;32m    269\u001b[0m contents \u001b[38;5;241m=\u001b[39m \u001b[38;5;28mself\u001b[39m\u001b[38;5;241m.\u001b[39m_read_file(source)\n\u001b[1;32m    270\u001b[0m \u001b[38;5;66;03m# substitute\u001b[39;00m\n\u001b[0;32m--> 271\u001b[0m substituted_contents \u001b[38;5;241m=\u001b[39m [\u001b[38;5;28;43mself\u001b[39;49m\u001b[38;5;241;43m.\u001b[39;49m\u001b[43m_substitute_ids\u001b[49m\u001b[43m(\u001b[49m\u001b[43mline\u001b[49m\u001b[43m)\u001b[49m \u001b[38;5;28;01mfor\u001b[39;00m line \u001b[38;5;129;01min\u001b[39;00m contents]\n\u001b[1;32m    272\u001b[0m \u001b[38;5;28;01mif\u001b[39;00m \u001b[38;5;28mself\u001b[39m\u001b[38;5;241m.\u001b[39mcopy \u001b[38;5;241m==\u001b[39m \u001b[38;5;28;01mFalse\u001b[39;00m:\n\u001b[1;32m    273\u001b[0m     \u001b[38;5;66;03m# remove the original file\u001b[39;00m\n\u001b[1;32m    274\u001b[0m     \u001b[38;5;28mself\u001b[39m\u001b[38;5;241m.\u001b[39m_remove_file(source)\n",
      "File \u001b[0;32m~/anaconda3/lib/python3.9/site-packages/anonymouus/anonymouus.py:351\u001b[0m, in \u001b[0;36mAnonymize._substitute_ids\u001b[0;34m(self, string)\u001b[0m\n\u001b[1;32m    347\u001b[0m \u001b[38;5;28;01melse\u001b[39;00m:\n\u001b[1;32m    349\u001b[0m     \u001b[38;5;28;01mif\u001b[39;00m \u001b[38;5;28mself\u001b[39m\u001b[38;5;241m.\u001b[39mmapping_is_function:\n\u001b[1;32m    350\u001b[0m         \u001b[38;5;66;03m# if there is a mapping function involved, we will use that\u001b[39;00m\n\u001b[0;32m--> 351\u001b[0m         string \u001b[38;5;241m=\u001b[39m \u001b[38;5;28;43mself\u001b[39;49m\u001b[38;5;241;43m.\u001b[39;49m\u001b[43mpattern\u001b[49m\u001b[38;5;241;43m.\u001b[39;49m\u001b[43msub\u001b[49m\u001b[43m(\u001b[49m\n\u001b[1;32m    352\u001b[0m \u001b[43m            \u001b[49m\u001b[38;5;28;43;01mlambda\u001b[39;49;00m\u001b[43m \u001b[49m\u001b[43mmatch\u001b[49m\u001b[43m:\u001b[49m\u001b[43m \u001b[49m\u001b[38;5;28;43mself\u001b[39;49m\u001b[38;5;241;43m.\u001b[39;49m\u001b[43mmapping\u001b[49m\u001b[43m(\u001b[49m\u001b[43mmatch\u001b[49m\u001b[38;5;241;43m.\u001b[39;49m\u001b[43mgroup\u001b[49m\u001b[43m(\u001b[49m\u001b[43m)\u001b[49m\u001b[43m,\u001b[49m\u001b[43m \u001b[49m\u001b[38;5;241;43m*\u001b[39;49m\u001b[38;5;241;43m*\u001b[39;49m\u001b[38;5;28;43mself\u001b[39;49m\u001b[38;5;241;43m.\u001b[39;49m\u001b[43mkwargs\u001b[49m\u001b[43m)\u001b[49m\u001b[43m,\u001b[49m\n\u001b[1;32m    353\u001b[0m \u001b[43m            \u001b[49m\u001b[43mstring\u001b[49m\n\u001b[1;32m    354\u001b[0m \u001b[43m        \u001b[49m\u001b[43m)\u001b[49m\n\u001b[1;32m    355\u001b[0m     \u001b[38;5;28;01melse\u001b[39;00m:\n\u001b[1;32m    356\u001b[0m         \u001b[38;5;66;03m# identify patterns and substitute them with appropriate substitute\u001b[39;00m\n\u001b[1;32m    357\u001b[0m         string \u001b[38;5;241m=\u001b[39m \u001b[38;5;28mself\u001b[39m\u001b[38;5;241m.\u001b[39mpattern\u001b[38;5;241m.\u001b[39msub(\n\u001b[1;32m    358\u001b[0m             \u001b[38;5;28;01mlambda\u001b[39;00m match: \u001b[38;5;28mself\u001b[39m\u001b[38;5;241m.\u001b[39mmapping\u001b[38;5;241m.\u001b[39mget(\n\u001b[1;32m    359\u001b[0m                 \u001b[38;5;28;01mmatch\u001b[39;00m\u001b[38;5;241m.\u001b[39mgroup(), \n\u001b[0;32m   (...)\u001b[0m\n\u001b[1;32m    362\u001b[0m             string\n\u001b[1;32m    363\u001b[0m         )\n",
      "File \u001b[0;32m~/anaconda3/lib/python3.9/site-packages/anonymouus/anonymouus.py:352\u001b[0m, in \u001b[0;36mAnonymize._substitute_ids.<locals>.<lambda>\u001b[0;34m(match)\u001b[0m\n\u001b[1;32m    347\u001b[0m \u001b[38;5;28;01melse\u001b[39;00m:\n\u001b[1;32m    349\u001b[0m     \u001b[38;5;28;01mif\u001b[39;00m \u001b[38;5;28mself\u001b[39m\u001b[38;5;241m.\u001b[39mmapping_is_function:\n\u001b[1;32m    350\u001b[0m         \u001b[38;5;66;03m# if there is a mapping function involved, we will use that\u001b[39;00m\n\u001b[1;32m    351\u001b[0m         string \u001b[38;5;241m=\u001b[39m \u001b[38;5;28mself\u001b[39m\u001b[38;5;241m.\u001b[39mpattern\u001b[38;5;241m.\u001b[39msub(\n\u001b[0;32m--> 352\u001b[0m             \u001b[38;5;28;01mlambda\u001b[39;00m match: \u001b[38;5;28;43mself\u001b[39;49m\u001b[38;5;241;43m.\u001b[39;49m\u001b[43mmapping\u001b[49m\u001b[43m(\u001b[49m\u001b[43mmatch\u001b[49m\u001b[38;5;241;43m.\u001b[39;49m\u001b[43mgroup\u001b[49m\u001b[43m(\u001b[49m\u001b[43m)\u001b[49m\u001b[43m,\u001b[49m\u001b[43m \u001b[49m\u001b[38;5;241;43m*\u001b[39;49m\u001b[38;5;241;43m*\u001b[39;49m\u001b[38;5;28;43mself\u001b[39;49m\u001b[38;5;241;43m.\u001b[39;49m\u001b[43mkwargs\u001b[49m\u001b[43m)\u001b[49m,\n\u001b[1;32m    353\u001b[0m             string\n\u001b[1;32m    354\u001b[0m         )\n\u001b[1;32m    355\u001b[0m     \u001b[38;5;28;01melse\u001b[39;00m:\n\u001b[1;32m    356\u001b[0m         \u001b[38;5;66;03m# identify patterns and substitute them with appropriate substitute\u001b[39;00m\n\u001b[1;32m    357\u001b[0m         string \u001b[38;5;241m=\u001b[39m \u001b[38;5;28mself\u001b[39m\u001b[38;5;241m.\u001b[39mpattern\u001b[38;5;241m.\u001b[39msub(\n\u001b[1;32m    358\u001b[0m             \u001b[38;5;28;01mlambda\u001b[39;00m match: \u001b[38;5;28mself\u001b[39m\u001b[38;5;241m.\u001b[39mmapping\u001b[38;5;241m.\u001b[39mget(\n\u001b[1;32m    359\u001b[0m                 \u001b[38;5;28;01mmatch\u001b[39;00m\u001b[38;5;241m.\u001b[39mgroup(), \n\u001b[0;32m   (...)\u001b[0m\n\u001b[1;32m    362\u001b[0m             string\n\u001b[1;32m    363\u001b[0m         )\n",
      "\u001b[0;31mTypeError\u001b[0m: subtitute() got an unexpected keyword argument 'session_id'"
     ]
    }
   ],
   "source": [
    "anon.substitute(Path(input_folder),Path(output_folder))"
   ]
  },
  {
   "cell_type": "code",
   "execution_count": null,
   "id": "2c60c651",
   "metadata": {},
   "outputs": [],
   "source": []
  }
 ],
 "metadata": {
  "kernelspec": {
   "display_name": "Python 3 (ipykernel)",
   "language": "python",
   "name": "python3"
  },
  "language_info": {
   "codemirror_mode": {
    "name": "ipython",
    "version": 3
   },
   "file_extension": ".py",
   "mimetype": "text/x-python",
   "name": "python",
   "nbconvert_exporter": "python",
   "pygments_lexer": "ipython3",
   "version": "3.9.12"
  }
 },
 "nbformat": 4,
 "nbformat_minor": 5
}
